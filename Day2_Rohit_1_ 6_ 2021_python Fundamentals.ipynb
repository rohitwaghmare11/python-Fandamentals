{
 "cells": [
  {
   "cell_type": "code",
   "execution_count": 1,
   "metadata": {},
   "outputs": [],
   "source": [
    "# type covertion "
   ]
  },
  {
   "cell_type": "code",
   "execution_count": 2,
   "metadata": {},
   "outputs": [],
   "source": [
    "# type convertion is basically used to convert a data type from one form to another"
   ]
  },
  {
   "cell_type": "code",
   "execution_count": 16,
   "metadata": {},
   "outputs": [],
   "source": [
    "# So here i have string 11000100 which i want to cover into an integer "
   ]
  },
  {
   "cell_type": "code",
   "execution_count": 17,
   "metadata": {},
   "outputs": [],
   "source": [
    "# And this number that i am wanting to convert into an integer will be in the form of a binary number."
   ]
  },
  {
   "cell_type": "code",
   "execution_count": 18,
   "metadata": {},
   "outputs": [],
   "source": [
    "s = \"11000100\" # star string "
   ]
  },
  {
   "cell_type": "code",
   "execution_count": 19,
   "metadata": {},
   "outputs": [
    {
     "name": "stdout",
     "output_type": "stream",
     "text": [
      "After converting to integer base 2 :196\n"
     ]
    }
   ],
   "source": [
    "c = int(s, 2)  # printing string converting to int base 2 \n",
    "\n",
    "print(\"After converting to integer base 2 :%d\" % c, end=\"\\n\")"
   ]
  },
  {
   "cell_type": "code",
   "execution_count": 20,
   "metadata": {},
   "outputs": [],
   "source": [
    "# resion that i am getting 196 is because 11000100 in binary is 196"
   ]
  },
  {
   "cell_type": "code",
   "execution_count": 21,
   "metadata": {},
   "outputs": [],
   "source": [
    "# Here we have a floating number which we are converting into a floating number."
   ]
  },
  {
   "cell_type": "code",
   "execution_count": 22,
   "metadata": {},
   "outputs": [
    {
     "name": "stdout",
     "output_type": "stream",
     "text": [
      "After converting to float : 11000100.000000\n"
     ]
    }
   ],
   "source": [
    "e = float(s)  # printing staring coverting to float\n",
    "\n",
    "print(\"After converting to float : %f\" % e, end=\"\\n\")"
   ]
  },
  {
   "cell_type": "code",
   "execution_count": 23,
   "metadata": {},
   "outputs": [],
   "source": [
    "# Here number 11000100 is converting into a floating number.\n",
    "\n",
    "# So that 11000100 in floating number is 11000100.000000 upto n number"
   ]
  },
  {
   "cell_type": "code",
   "execution_count": 24,
   "metadata": {},
   "outputs": [],
   "source": [
    "# So the type convertions that we follow are called as explicit type convertions\n",
    "\n",
    "# and the type convertions that python does by itself are called as implicit type convertions "
   ]
  },
  {
   "cell_type": "code",
   "execution_count": 25,
   "metadata": {},
   "outputs": [],
   "source": [
    "# Here we have a string that has a value 8"
   ]
  },
  {
   "cell_type": "code",
   "execution_count": 26,
   "metadata": {},
   "outputs": [
    {
     "name": "stdout",
     "output_type": "stream",
     "text": [
      "After converting to integer : 8\n"
     ]
    }
   ],
   "source": [
    "s = '8'  # Initializing integer \n",
    "\n",
    "# Now i want to convert it into an integer which is done using the \"odr\" function \n",
    "\n",
    "c = ord(s)  # printing charecter to converting to integer \n",
    "\n",
    "print(\"After converting to integer : %c\" % c, end=\"\\n\")"
   ]
  },
  {
   "cell_type": "code",
   "execution_count": null,
   "metadata": {},
   "outputs": [],
   "source": []
  },
  {
   "cell_type": "code",
   "execution_count": 27,
   "metadata": {},
   "outputs": [
    {
     "name": "stdout",
     "output_type": "stream",
     "text": [
      "After converting 95 to hexadecimal string : 0x5f\n"
     ]
    }
   ],
   "source": [
    "# Printing integer converting to hexadecimal string \n",
    "\n",
    "c = hex(95)\n",
    "\n",
    "# now i am using hex function to convert integer to hexadecimal number \n",
    "\n",
    "print(\"After converting 95 to hexadecimal string : \" + c, end=\"\\n\")"
   ]
  },
  {
   "cell_type": "code",
   "execution_count": 28,
   "metadata": {},
   "outputs": [
    {
     "name": "stdout",
     "output_type": "stream",
     "text": [
      "After converting 95 to octal string :0o137\n"
     ]
    }
   ],
   "source": [
    "# printing integer converting to string \n",
    "\n",
    "c = oct(95)\n",
    "\n",
    "# i want the oct function to convert the integer to octal number \n",
    "\n",
    "print(\"After converting 95 to octal string :\" + c, end=\"\\n\")"
   ]
  },
  {
   "cell_type": "code",
   "execution_count": null,
   "metadata": {},
   "outputs": [],
   "source": []
  },
  {
   "cell_type": "code",
   "execution_count": 29,
   "metadata": {},
   "outputs": [
    {
     "name": "stdout",
     "output_type": "stream",
     "text": [
      "After converting string to tuple :  ('r', 'o', 'h', 'i', 't')\n"
     ]
    }
   ],
   "source": [
    "# Here i have a string rohit \n",
    "\n",
    "s = 'rohit' # initializing string \n",
    "\n",
    "# printing string converting to tuple \n",
    "\n",
    "c = tuple(s)\n",
    "\n",
    "print(\"After converting string to tuple : \", c, end=\"\\n\")"
   ]
  },
  {
   "cell_type": "code",
   "execution_count": null,
   "metadata": {},
   "outputs": [],
   "source": []
  },
  {
   "cell_type": "code",
   "execution_count": 30,
   "metadata": {},
   "outputs": [
    {
     "name": "stdout",
     "output_type": "stream",
     "text": [
      "After converting string to set : {'r', 'i', 'h', 'o', 't'}\n"
     ]
    }
   ],
   "source": [
    "# Here printing string converting to set \n",
    "\n",
    "c = set(s)\n",
    "\n",
    "print(\"After converting string to set :\", c, end=\"\\n\")"
   ]
  },
  {
   "cell_type": "code",
   "execution_count": null,
   "metadata": {},
   "outputs": [],
   "source": []
  },
  {
   "cell_type": "code",
   "execution_count": 31,
   "metadata": {},
   "outputs": [
    {
     "name": "stdout",
     "output_type": "stream",
     "text": [
      "After converting to list :  ['r', 'o', 'h', 'i', 't']\n"
     ]
    }
   ],
   "source": [
    "# here printing string converting to list \n",
    "\n",
    "c = list(s)\n",
    "\n",
    "print(\"After converting to list : \", c, end=\"\\n\")"
   ]
  },
  {
   "cell_type": "code",
   "execution_count": null,
   "metadata": {},
   "outputs": [],
   "source": []
  },
  {
   "cell_type": "code",
   "execution_count": null,
   "metadata": {},
   "outputs": [],
   "source": []
  },
  {
   "cell_type": "code",
   "execution_count": null,
   "metadata": {},
   "outputs": [],
   "source": []
  }
 ],
 "metadata": {
  "kernelspec": {
   "display_name": "Python 3",
   "language": "python",
   "name": "python3"
  },
  "language_info": {
   "codemirror_mode": {
    "name": "ipython",
    "version": 3
   },
   "file_extension": ".py",
   "mimetype": "text/x-python",
   "name": "python",
   "nbconvert_exporter": "python",
   "pygments_lexer": "ipython3",
   "version": "3.8.5"
  }
 },
 "nbformat": 4,
 "nbformat_minor": 4
}
